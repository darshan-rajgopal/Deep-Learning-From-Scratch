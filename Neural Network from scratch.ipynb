{
 "cells": [
  {
   "cell_type": "code",
   "execution_count": 2,
   "id": "441b67ff",
   "metadata": {},
   "outputs": [],
   "source": [
    "import numpy as np\n",
    "from matplotlib import pyplot as plt"
   ]
  },
  {
   "cell_type": "code",
   "execution_count": 3,
   "id": "1ee8f8a2",
   "metadata": {},
   "outputs": [],
   "source": [
    "x=np.array(([0,0],[0,1],[1,0],[1,1]))\n",
    "y=np.array(([0],[1],[1],[0]))"
   ]
  },
  {
   "cell_type": "code",
   "execution_count": 4,
   "id": "bb65a276",
   "metadata": {},
   "outputs": [],
   "source": [
    "x_b=np.array(([1,0,0],[1,0,1],[1,1,0],[1,1,1]))\n"
   ]
  },
  {
   "cell_type": "code",
   "execution_count": 5,
   "id": "f37c94e9",
   "metadata": {},
   "outputs": [],
   "source": [
    "# define the ANN archi\n",
    "inp_size=3\n",
    "hid_size=3\n",
    "out_size=1"
   ]
  },
  {
   "cell_type": "code",
   "execution_count": 6,
   "id": "2c9ad6a3",
   "metadata": {},
   "outputs": [
    {
     "data": {
      "text/plain": [
       "array([[ 0.54705157,  0.835948  ,  1.07350745],\n",
       "       [-0.45069464, -0.32689406,  0.03867785],\n",
       "       [ 1.20854111,  0.89751854, -0.32168604]])"
      ]
     },
     "execution_count": 6,
     "metadata": {},
     "output_type": "execute_result"
    }
   ],
   "source": [
    "w1=np.random.randn(inp_size,hid_size)\n",
    "w1"
   ]
  },
  {
   "cell_type": "code",
   "execution_count": 7,
   "id": "6c7f9aee",
   "metadata": {},
   "outputs": [
    {
     "data": {
      "text/plain": [
       "array([[-0.73569017],\n",
       "       [-1.38995357],\n",
       "       [-1.1235562 ]])"
      ]
     },
     "execution_count": 7,
     "metadata": {},
     "output_type": "execute_result"
    }
   ],
   "source": [
    "w2=np.random.randn(hid_size,out_size)\n",
    "w2"
   ]
  },
  {
   "cell_type": "code",
   "execution_count": 8,
   "id": "65706596",
   "metadata": {},
   "outputs": [],
   "source": [
    "def sigmoid(z):\n",
    "    sig=1/(1+np.exp(-z))\n",
    "    return sig\n",
    "\n",
    "def forward(x):\n",
    "    z1=np.dot(x,w1)\n",
    "    y1=sigmoid(z1)\n",
    "    z2=np.dot(y1,w2)\n",
    "    out=sigmoid(z2)\n",
    "    return out,y1\n",
    "\n",
    "def backward(x,y,w1,w2,y1,out):\n",
    "    out_err=y-out\n",
    "    out_delta=out_err*(out*(1-out))\n",
    "    \n",
    "    y1_err=np.dot(out_delta,w2.T)\n",
    "    y1_delta=y1_err*(y1*(1-y1))\n",
    "    \n",
    "    w2+=np.dot(y1.T,out_delta)  # consider alpha=1  \n",
    "    w1+=np.dot(x.T,y1_delta)\n",
    "    \n",
    "    return w1,w2\n",
    "\n",
    "def train(x,y):\n",
    "    [out,y1]=forward(x)\n",
    "    backward(x,y,w1,w2,y1,out)\n",
    "    return w1,w2,out\n",
    "\n",
    "def predict(tes):\n",
    "    [out,y1]=forward(tes)\n",
    "    pred=out\n",
    "    return pred\n"
   ]
  },
  {
   "cell_type": "code",
   "execution_count": 9,
   "id": "d7f45f7d",
   "metadata": {},
   "outputs": [],
   "source": [
    "loss=np.zeros([1000,1],dtype=float)\n",
    "for i in range(1000):\n",
    "    [w1,w2,out]=train(x_b,y)\n",
    "    loss[i]=np.mean(np.square(y-out))  \n",
    "    #print(loss[i])"
   ]
  },
  {
   "cell_type": "code",
   "execution_count": 10,
   "id": "51e7e063",
   "metadata": {},
   "outputs": [
    {
     "data": {
      "text/plain": [
       "[<matplotlib.lines.Line2D at 0x17989338220>]"
      ]
     },
     "execution_count": 10,
     "metadata": {},
     "output_type": "execute_result"
    },
    {
     "data": {
      "image/png": "[encoded data removed]",
      "text/plain": [
       "<Figure size 432x288 with 1 Axes>"
      ]
     },
     "metadata": {
      "needs_background": "light"
     },
     "output_type": "display_data"
    }
   ],
   "source": [
    "plt.plot(loss)"
   ]
  },
  {
   "cell_type": "code",
   "execution_count": 11,
   "id": "67845f13",
   "metadata": {},
   "outputs": [
    {
     "name": "stdout",
     "output_type": "stream",
     "text": [
      "[[0.03070418]\n",
      " [0.94752567]\n",
      " [0.95641241]\n",
      " [0.06034971]]\n"
     ]
    }
   ],
   "source": [
    "tes=np.array(([1,0,0],[1,0,1],[1,1,0],[1,1,1]))\n",
    "pred=predict(tes)\n",
    "print(pred)"
   ]
  },
  {
   "cell_type": "code",
   "execution_count": 12,
   "id": "dfee61ab",
   "metadata": {},
   "outputs": [
    {
     "data": {
      "text/plain": [
       "array([[0],\n",
       "       [1],\n",
       "       [1],\n",
       "       [0]])"
      ]
     },
     "execution_count": 12,
     "metadata": {},
     "output_type": "execute_result"
    }
   ],
   "source": [
    "y"
   ]
  },
  {
   "cell_type": "code",
   "execution_count": 13,
   "id": "7f9ef70d",
   "metadata": {},
   "outputs": [
    {
     "data": {
      "text/plain": [
       "array([[-0.6886049 ,  2.69274438, -0.88465938],\n",
       "       [ 3.01873002, -4.97109101, -5.24365256],\n",
       "       [ 4.16727831,  5.86474777,  2.97274304]])"
      ]
     },
     "execution_count": 13,
     "metadata": {},
     "output_type": "execute_result"
    }
   ],
   "source": [
    "w1"
   ]
  },
  {
   "cell_type": "code",
   "execution_count": 14,
   "id": "268d7749",
   "metadata": {},
   "outputs": [
    {
     "data": {
      "text/plain": [
       "array([[ 4.12110226],\n",
       "       [-7.34481505],\n",
       "       [ 7.01234033]])"
      ]
     },
     "execution_count": 14,
     "metadata": {},
     "output_type": "execute_result"
    }
   ],
   "source": [
    "w2"
   ]
  },
  {
   "cell_type": "code",
   "execution_count": 15,
   "id": "0321f412",
   "metadata": {},
   "outputs": [
    {
     "name": "stderr",
     "output_type": "stream",
     "text": [
      "C:\\Users\\python\\lib\\site-packages\\sklearn\\utils\\validation.py:63: DataConversionWarning: A column-vector y was passed when a 1d array was expected. Please change the shape of y to (n_samples, ), for example using ravel().\n",
      "  return f(*args, **kwargs)\n"
     ]
    },
    {
     "data": {
      "text/plain": [
       "array([0, 0, 0, 0])"
      ]
     },
     "execution_count": 15,
     "metadata": {},
     "output_type": "execute_result"
    }
   ],
   "source": [
    "from sklearn.linear_model import LogisticRegression\n",
    "logit=LogisticRegression()\n",
    "logit.fit(x,y)\n",
    "ypred=logit.predict(x)\n",
    "ypred"
   ]
  },
  {
   "cell_type": "code",
   "execution_count": null,
   "id": "6abff7ed",
   "metadata": {},
   "outputs": [],
   "source": []
  }
 ],
 "metadata": {
  "kernelspec": {
   "display_name": "Python 3",
   "language": "python",
   "name": "python3"
  },
  "language_info": {
   "codemirror_mode": {
    "name": "ipython",
    "version": 3
   },
   "file_extension": ".py",
   "mimetype": "text/x-python",
   "name": "python",
   "nbconvert_exporter": "python",
   "pygments_lexer": "ipython3",
   "version": "3.8.8"
  }
 },
 "nbformat": 4,
 "nbformat_minor": 5
}
